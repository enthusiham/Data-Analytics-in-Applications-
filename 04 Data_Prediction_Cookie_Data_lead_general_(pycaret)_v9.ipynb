{
 "cells": [
  {
   "cell_type": "markdown",
   "metadata": {},
   "source": [
    "# Prediction of \"lead_general\""
   ]
  },
  {
   "cell_type": "markdown",
   "metadata": {},
   "source": [
    "## Dependencies"
   ]
  },
  {
   "cell_type": "code",
   "execution_count": null,
   "metadata": {
    "execution": {
     "iopub.execute_input": "2022-01-24T12:06:06.225542Z",
     "iopub.status.busy": "2022-01-24T12:06:06.225069Z",
     "iopub.status.idle": "2022-01-24T12:06:12.072547Z",
     "shell.execute_reply": "2022-01-24T12:06:12.071598Z",
     "shell.execute_reply.started": "2022-01-24T12:06:06.225502Z"
    }
   },
   "outputs": [],
   "source": [
    "import pandas as pd\n",
    "\n",
    "# String Encoding\n",
    "from sklearn.preprocessing import LabelEncoder\n",
    "\n",
    "# Creation of training and testing sets\n",
    "from sklearn.model_selection import train_test_split\n",
    "\n",
    "# Creation of balanced data sets\n",
    "from imblearn.under_sampling import  RandomUnderSampler\n",
    "#from collections import Counter\n",
    "#from matplotlib import pyplot\n",
    "from imblearn.over_sampling import SMOTE\n",
    "#from imblearn.over_sampling import SMOTEN\n",
    "from imblearn.over_sampling import RandomOverSampler\n",
    "\n",
    "# PyCaret\n",
    "from pycaret.classification import *\n",
    "\n",
    "# ML algoriths\n",
    "from sklearn.linear_model import SGDClassifier\n",
    "from sklearn.svm import SVC\n",
    "from sklearn.ensemble import RandomForestClassifier\n",
    "from sklearn.neural_network import MLPClassifier\n",
    "from sklearn.ensemble import GradientBoostingClassifier\n",
    "\n",
    "# Analysis of ML models\n",
    "from sklearn.metrics import confusion_matrix\n",
    "\n",
    "import json\n",
    "\n",
    "\n",
    "import numpy\n",
    "\n",
    "# https://imbalanced-learn.org/stable/references/generated/imblearn.under_sampling.NearMiss.html\n",
    "from imblearn.under_sampling import NearMiss\n",
    "from imblearn.pipeline import Pipeline\n",
    "from sklearn.model_selection import cross_val_score\n",
    "from sklearn.model_selection import RepeatedStratifiedKFold"
   ]
  },
  {
   "cell_type": "markdown",
   "metadata": {},
   "source": [
    "## Data import"
   ]
  },
  {
   "cell_type": "code",
   "execution_count": null,
   "metadata": {
    "execution": {
     "iopub.execute_input": "2022-01-24T12:06:12.074996Z",
     "iopub.status.busy": "2022-01-24T12:06:12.074239Z",
     "iopub.status.idle": "2022-01-24T12:06:15.197478Z",
     "shell.execute_reply": "2022-01-24T12:06:15.196525Z",
     "shell.execute_reply.started": "2022-01-24T12:06:12.074952Z"
    }
   },
   "outputs": [],
   "source": [
    "cookie_data = pd.read_csv('./TU/Cookie_prepared.csv', sep=';', dtype='string')\n",
    "cookie_data.info()"
   ]
  },
  {
   "cell_type": "markdown",
   "metadata": {},
   "source": [
    "## Preliminary Checks"
   ]
  },
  {
   "cell_type": "markdown",
   "metadata": {},
   "source": [
    "As we imported the prepared data, there should be no NA values present anymore"
   ]
  },
  {
   "cell_type": "code",
   "execution_count": null,
   "metadata": {
    "execution": {
     "iopub.execute_input": "2022-01-24T12:06:15.206205Z",
     "iopub.status.busy": "2022-01-24T12:06:15.203584Z",
     "iopub.status.idle": "2022-01-24T12:06:16.192835Z",
     "shell.execute_reply": "2022-01-24T12:06:16.191779Z",
     "shell.execute_reply.started": "2022-01-24T12:06:15.206152Z"
    }
   },
   "outputs": [],
   "source": [
    "NA_overview = cookie_data.isna().sum()\n",
    "cookie_columns = cookie_data.columns\n",
    "\n",
    "# Filter those entries with an aggregates sum of at least 1\n",
    "list_of_NA_columns = []\n",
    "for i in range(len(cookie_data.columns)):\n",
    "    # Only include columns with at least 1 NA value\n",
    "    if NA_overview[i] > 0:\n",
    "        list_of_NA_columns.append([cookie_columns[i], NA_overview[i]])\n",
    "\n",
    "list_of_NA_columns"
   ]
  },
  {
   "cell_type": "markdown",
   "metadata": {},
   "source": [
    "## Encode Non-numerical Values"
   ]
  },
  {
   "cell_type": "markdown",
   "metadata": {},
   "source": [
    "The prepared data was not encoded, because we would then loose the dictionaries that were used to turn strings into integers. We need to do it now and save the used dictionaries for later use."
   ]
  },
  {
   "cell_type": "code",
   "execution_count": null,
   "metadata": {
    "execution": {
     "iopub.execute_input": "2022-01-24T12:06:16.195579Z",
     "iopub.status.busy": "2022-01-24T12:06:16.194812Z",
     "iopub.status.idle": "2022-01-24T12:06:25.230708Z",
     "shell.execute_reply": "2022-01-24T12:06:25.229756Z",
     "shell.execute_reply.started": "2022-01-24T12:06:16.195516Z"
    },
    "scrolled": false
   },
   "outputs": [],
   "source": [
    "cookie_data_backup = cookie_data.copy()\n",
    "dictionaries = {}\n",
    "le = LabelEncoder()\n",
    "\n",
    "for col in cookie_data_backup:\n",
    "    # col referes to the column names   \n",
    "    try:\n",
    "        cookie_data[col] = pd.to_numeric(cookie_data_backup[col])\n",
    "    except:\n",
    "        # We have string entries we cant turn into numericals automatically -> encode!\n",
    "        cookie_data[col] = le.fit_transform(cookie_data_backup[col])\n",
    "        dictionaries.update({col: dict(zip(le.classes_, le.transform(le.classes_)))})\n",
    "\n",
    "cookie_data"
   ]
  },
  {
   "cell_type": "markdown",
   "metadata": {},
   "source": [
    "## Getting An Overview"
   ]
  },
  {
   "cell_type": "markdown",
   "metadata": {},
   "source": [
    "From our research we got five suggestions on which classifiers to use. These are:\n",
    "- Stochastic Gradient Descent Classifier\n",
    "- Support Vector Classifier\n",
    "- Random Forrest Classifier\n",
    "- Neural Network Classifier\n",
    "- Gradient Boosting Classifier\n",
    "\n",
    "We will try to get an overview over the best performing algorithms and comapre these with our list."
   ]
  },
  {
   "cell_type": "code",
   "execution_count": null,
   "metadata": {
    "execution": {
     "iopub.execute_input": "2022-01-24T07:45:15.120658Z",
     "iopub.status.busy": "2022-01-24T07:45:15.120360Z",
     "iopub.status.idle": "2022-01-24T07:45:28.147219Z",
     "shell.execute_reply": "2022-01-24T07:45:28.146484Z",
     "shell.execute_reply.started": "2022-01-24T07:45:15.120594Z"
    },
    "scrolled": true
   },
   "outputs": [],
   "source": [
    "pycaret_data_lead_general = cookie_data.drop(columns=['lead_model1', 'lead_model2'])\n",
    "exp_name_lead_general = setup(data=pycaret_data_lead_general, target='lead_general', session_id=5040, use_gpu=True, silent=True)"
   ]
  },
  {
   "cell_type": "code",
   "execution_count": null,
   "metadata": {
    "scrolled": false
   },
   "outputs": [],
   "source": [
    "best_model_lead_model = compare_models()"
   ]
  },
  {
   "cell_type": "markdown",
   "metadata": {},
   "source": [
    "## Creating Random Forrest Classifier and Gradient Boosting Classifier Model"
   ]
  },
  {
   "cell_type": "code",
   "execution_count": null,
   "metadata": {
    "scrolled": true
   },
   "outputs": [],
   "source": [
    "RFC_model = create_model('rf')"
   ]
  },
  {
   "cell_type": "code",
   "execution_count": null,
   "metadata": {
    "scrolled": true
   },
   "outputs": [],
   "source": [
    "plot_model(RFC_model, plot = 'confusion_matrix')"
   ]
  },
  {
   "cell_type": "code",
   "execution_count": null,
   "metadata": {
    "scrolled": false
   },
   "outputs": [],
   "source": [
    "GBC_model = create_model('gbc')"
   ]
  },
  {
   "cell_type": "code",
   "execution_count": null,
   "metadata": {},
   "outputs": [],
   "source": [
    "plot_model(GBC_model, plot = 'confusion_matrix')"
   ]
  },
  {
   "cell_type": "markdown",
   "metadata": {},
   "source": [
    "## Tuning the Random Forrest Model Towards F1 and AUC"
   ]
  },
  {
   "cell_type": "code",
   "execution_count": null,
   "metadata": {},
   "outputs": [],
   "source": [
    "F1_tuned_RFC_model, F1_RFC_tuner = tune_model(RFC_model, optimize='F1', return_tuner=True)"
   ]
  },
  {
   "cell_type": "code",
   "execution_count": null,
   "metadata": {
    "scrolled": true
   },
   "outputs": [],
   "source": [
    "plot_model(F1_tuned_RFC_model, plot = 'confusion_matrix')"
   ]
  },
  {
   "cell_type": "code",
   "execution_count": null,
   "metadata": {
    "scrolled": true
   },
   "outputs": [],
   "source": [
    "AUC_tuned_GBC_model, AUC_GBC_tuner = tu2221998\n",
    "ne_model(RFC_model, optimize='AUC', return_tuner=True)"
   ]
  },
  {
   "cell_type": "code",
   "execution_count": null,
   "metadata": {
    "scrolled": true
   },
   "outputs": [],
   "source": [
    "plot_model(AUC_tuned_GBC_model, plot = 'confusion_matrix')"
   ]
  },
  {
   "cell_type": "markdown",
   "metadata": {},
   "source": [
    "# Tune Models Towards Recall"
   ]
  },
  {
   "cell_type": "code",
   "execution_count": null,
   "metadata": {},
   "outputs": [],
   "source": [
    "recall_tuned_RFC_model, recall_RFC_tuner = tune_model(RFC_model, optimize='Recall', return_tuner=True)"
   ]
  },
  {
   "cell_type": "code",
   "execution_count": null,
   "metadata": {},
   "outputs": [],
   "source": [
    "plot_model(recall_tuned_RFC_model, plot = 'confusion_matrix')"
   ]
  },
  {
   "cell_type": "code",
   "execution_count": null,
   "metadata": {
    "scrolled": true
   },
   "outputs": [],
   "source": [
    "recall_tuned_GBC_model, recall_GBC_tuner = tune_model(RFC_model, optimize='Recall', return_tuner=True)"
   ]
  },
  {
   "cell_type": "code",
   "execution_count": null,
   "metadata": {},
   "outputs": [],
   "source": [
    "plot_model(recall_tuned_GBC_model, plot = 'confusion_matrix')"
   ]
  },
  {
   "cell_type": "markdown",
   "metadata": {},
   "source": [
    "We can see, that the Random Forrest Classifier and Gradient Boosting Classifier are the best algorithms with 99.57% accuracy once they are tuned. We still have a false negative rate of around 30% no matter the tuning. Reducing this value is open for further work."
   ]
  },
  {
   "cell_type": "markdown",
   "metadata": {},
   "source": [
    "To be able to rebuild the model created by PyCaret, we output their configuration."
   ]
  },
  {
   "cell_type": "code",
   "execution_count": null,
   "metadata": {},
   "outputs": [],
   "source": [
    "print(F1_RFC_tuner)"
   ]
  },
  {
   "cell_type": "code",
   "execution_count": null,
   "metadata": {},
   "outputs": [],
   "source": [
    "print(F1_tuned_RFC_model)"
   ]
  },
  {
   "cell_type": "code",
   "execution_count": null,
   "metadata": {},
   "outputs": [],
   "source": [
    "print(AUC_GBC_tuner)"
   ]
  },
  {
   "cell_type": "code",
   "execution_count": null,
   "metadata": {},
   "outputs": [],
   "source": [
    "print(AUC_tuned_GBC_model)"
   ]
  }
 ],
 "metadata": {
  "kernelspec": {
   "display_name": "Python 3 (ipykernel)",
   "language": "python",
   "name": "python3"
  },
  "language_info": {
   "codemirror_mode": {
    "name": "ipython",
    "version": 3
   },
   "file_extension": ".py",
   "mimetype": "text/x-python",
   "name": "python",
   "nbconvert_exporter": "python",
   "pygments_lexer": "ipython3",
   "version": "3.8.12"
  }
 },
 "nbformat": 4,
 "nbformat_minor": 4
}
